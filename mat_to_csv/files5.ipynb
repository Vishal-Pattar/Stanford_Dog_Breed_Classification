{
 "cells": [
  {
   "cell_type": "code",
   "execution_count": 30,
   "metadata": {},
   "outputs": [],
   "source": [
    "import os\n",
    "from bs4 import BeautifulSoup"
   ]
  },
  {
   "cell_type": "code",
   "execution_count": 31,
   "metadata": {},
   "outputs": [],
   "source": [
    "ct1 = 0\n",
    "ct2 = 0"
   ]
  },
  {
   "cell_type": "code",
   "execution_count": 35,
   "metadata": {},
   "outputs": [],
   "source": [
    "for root, dirs, files in os.walk(\"Annotation\"):\n",
    "\tfor file in files:\n",
    "\t\tfl_path = os.path.join(root, file)\n",
    "\t\tfil = fl_path.split(\"\\\\\")\n",
    "\t\tfld = fil[-1].split(\"_\")\n",
    "\t\tfl = open(fl_path, \"r\")\n",
    "\t\tcp = fl.read()\n",
    "\t\tread = BeautifulSoup(cp, \"html.parser\")\n",
    "\t\tfolder = read.find(\"folder\")\n",
    "\t\tflname = read.find(\"filename\")\n",
    "\t\tfl.close()\n",
    "\t\tif folder.text == \"%s\" and flname.text == \"%s\":\n",
    "\t\t\tflw = open(fl_path, \"w\")\n",
    "\t\t\tcp = cp.replace(\"%s\", fld[0][1:],1).replace(\"%s\", fil[-1],2)\n",
    "\t\t\tflw.write(cp)\n",
    "\t\t\tflw.close()\n",
    "\t\t\t# print(fil[-1])\n",
    "\t\t\t# print(fld[0][1:])"
   ]
  }
 ],
 "metadata": {
  "kernelspec": {
   "display_name": "Python 3",
   "language": "python",
   "name": "python3"
  },
  "language_info": {
   "codemirror_mode": {
    "name": "ipython",
    "version": 3
   },
   "file_extension": ".py",
   "mimetype": "text/x-python",
   "name": "python",
   "nbconvert_exporter": "python",
   "pygments_lexer": "ipython3",
   "version": "3.11.4"
  },
  "orig_nbformat": 4
 },
 "nbformat": 4,
 "nbformat_minor": 2
}
