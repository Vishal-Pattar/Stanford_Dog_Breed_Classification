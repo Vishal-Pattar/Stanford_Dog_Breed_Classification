{
 "cells": [
  {
   "cell_type": "code",
   "execution_count": 1,
   "metadata": {},
   "outputs": [],
   "source": [
    "import os\n",
    "from bs4 import BeautifulSoup\n",
    "import csv"
   ]
  },
  {
   "cell_type": "code",
   "execution_count": 2,
   "metadata": {},
   "outputs": [],
   "source": [
    "feat = []\n",
    "f_arr = []\n",
    "obj_arr = []\n",
    "data_arr = []\n",
    "ct = 0"
   ]
  },
  {
   "cell_type": "code",
   "execution_count": 3,
   "metadata": {},
   "outputs": [],
   "source": [
    "for root, dirs, files in os.walk(\"Annotation\"):\n",
    "\tfor file in files:\n",
    "\t\tfl_path = os.path.join(root, file)\n",
    "\t\tfl = open(fl_path, \"r\")\n",
    "\t\tcp = fl.read()\n",
    "\t\tread = read = BeautifulSoup(cp, \"html.parser\")\n",
    "\t\tannot = read.find(\"annotation\")\n",
    "\t\tif ct == 0:\n",
    "\t\t\tallTags = read.findAll(True)\n",
    "\t\t\tfor e in allTags:\n",
    "\t\t\t\tfeat.append(e.name)\n",
    "\t\t\tct = 1\n",
    "\t\tarr = annot.text.split(\"\\n\")\n",
    "\t\tobjct = read.find_all(\"object\")\n",
    "\t\tif len(objct) == 1:\n",
    "\t\t\tf_arr.append(arr[:10])\n",
    "\t\t\tob_arr = objct[0].text.split(\"\\n\")\n",
    "\t\t\tobj_arr.append(ob_arr)\n",
    "\t\t\tdata_arr.append(arr[:10] + ob_arr[:-2])\n",
    "\t\telse:\n",
    "\t\t\tfor lx in range(len(objct)):\n",
    "\t\t\t\tf_arr.append(arr[:10])\n",
    "\t\t\t\tob_arr = objct[lx].text.split(\"\\n\")\n",
    "\t\t\t\tobj_arr.append(ob_arr)\n",
    "\t\t\t\tdata_arr.append(arr[:10] + ob_arr[:-2])"
   ]
  },
  {
   "cell_type": "code",
   "execution_count": 4,
   "metadata": {},
   "outputs": [
    {
     "data": {
      "text/plain": [
       "['',\n",
       " '02085620',\n",
       " 'n02085620_10074',\n",
       " '',\n",
       " 'ImageNet database',\n",
       " '',\n",
       " '333',\n",
       " '500',\n",
       " '3',\n",
       " '',\n",
       " '',\n",
       " 'Chihuahua',\n",
       " 'Unspecified',\n",
       " '0',\n",
       " '0',\n",
       " '',\n",
       " '25',\n",
       " '10',\n",
       " '276',\n",
       " '498']"
      ]
     },
     "execution_count": 4,
     "metadata": {},
     "output_type": "execute_result"
    }
   ],
   "source": [
    "data_arr[0]"
   ]
  },
  {
   "cell_type": "code",
   "execution_count": 5,
   "metadata": {},
   "outputs": [],
   "source": [
    "with open(\"stanford_dogs_raw.csv\", 'w', newline='') as csvfile:\n",
    "\tcsvwriter = csv.writer(csvfile)\n",
    "\tcsvwriter.writerow(feat)\n",
    "\tcsvwriter.writerows(data_arr)"
   ]
  }
 ],
 "metadata": {
  "kernelspec": {
   "display_name": "Python 3",
   "language": "python",
   "name": "python3"
  },
  "language_info": {
   "codemirror_mode": {
    "name": "ipython",
    "version": 3
   },
   "file_extension": ".py",
   "mimetype": "text/x-python",
   "name": "python",
   "nbconvert_exporter": "python",
   "pygments_lexer": "ipython3",
   "version": "3.11.4"
  },
  "orig_nbformat": 4
 },
 "nbformat": 4,
 "nbformat_minor": 2
}
