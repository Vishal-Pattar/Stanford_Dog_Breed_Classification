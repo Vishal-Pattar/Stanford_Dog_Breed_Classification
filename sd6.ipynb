{
 "cells": [
  {
   "cell_type": "code",
   "execution_count": 1,
   "metadata": {},
   "outputs": [],
   "source": [
    "import numpy as np\n",
    "import pandas as pd\n",
    "import matplotlib.pyplot as plt\n",
    "import seaborn as sns"
   ]
  },
  {
   "cell_type": "code",
   "execution_count": 2,
   "metadata": {},
   "outputs": [],
   "source": [
    "from keras.utils import load_img, img_to_array\n",
    "from keras.preprocessing.image import ImageDataGenerator\n",
    "from keras.layers import Conv2D, BatchNormalization, MaxPooling2D, GlobalAveragePooling2D, Dense\n",
    "from keras.models import Sequential\n",
    "from keras.metrics import Precision, Recall \n",
    "from keras.callbacks import ModelCheckpoint"
   ]
  },
  {
   "cell_type": "code",
   "execution_count": 3,
   "metadata": {},
   "outputs": [],
   "source": [
    "from sklearn.metrics import precision_recall_fscore_support, confusion_matrix, classification_report"
   ]
  },
  {
   "cell_type": "code",
   "execution_count": 4,
   "metadata": {},
   "outputs": [],
   "source": [
    "img_h = 224\n",
    "img_w = 224\n",
    "batch_size = 12\n",
    "epoch = 10\n",
    "train_path = \"DogsDatasets/Train\"\n",
    "test_path = \"DogsDatasets/Test\""
   ]
  },
  {
   "cell_type": "code",
   "execution_count": 5,
   "metadata": {},
   "outputs": [],
   "source": [
    "train_datagen = ImageDataGenerator(rescale=1./255)\n",
    "test_datagen = ImageDataGenerator(rescale=1./255)"
   ]
  },
  {
   "cell_type": "code",
   "execution_count": 6,
   "metadata": {},
   "outputs": [
    {
     "name": "stdout",
     "output_type": "stream",
     "text": [
      "Found 17700 images belonging to 120 classes.\n",
      "Found 4426 images belonging to 120 classes.\n"
     ]
    }
   ],
   "source": [
    "train_dataset = train_datagen.flow_from_directory(train_path,\n",
    "                                                  target_size=(img_h, img_w),\n",
    "                                                  class_mode='categorical',\n",
    "                                                  color_mode='rgb',\n",
    "                                                  shuffle=False)\n",
    "test_dataset = test_datagen.flow_from_directory(test_path,\n",
    "                                                  target_size=(img_h, img_w),\n",
    "                                                  class_mode='categorical',\n",
    "                                                  color_mode='rgb',\n",
    "                                                  shuffle=False)"
   ]
  },
  {
   "cell_type": "code",
   "execution_count": 7,
   "metadata": {},
   "outputs": [],
   "source": [
    "checkpoint = ModelCheckpoint(\"Dogs-Model-1.h5\",\n",
    "                             monitor='loss',\n",
    "                             verbose=1,\n",
    "                             save_best_only=True,\n",
    "                             save_weights_only=False,\n",
    "                             mode='auto',\n",
    "                             save_freq='epoch')"
   ]
  },
  {
   "cell_type": "code",
   "execution_count": 9,
   "metadata": {},
   "outputs": [
    {
     "name": "stdout",
     "output_type": "stream",
     "text": [
      "Model: \"sequential\"\n",
      "_________________________________________________________________\n",
      " Layer (type)                Output Shape              Param #   \n",
      "=================================================================\n",
      " conv2d (Conv2D)             (None, 112, 112, 64)      9472      \n",
      "                                                                 \n",
      " batch_normalization (BatchN  (None, 112, 112, 64)     256       \n",
      " ormalization)                                                   \n",
      "                                                                 \n",
      " max_pooling2d (MaxPooling2D  (None, 56, 56, 64)       0         \n",
      " )                                                               \n",
      "                                                                 \n",
      " conv2d_1 (Conv2D)           (None, 28, 28, 64)        36928     \n",
      "                                                                 \n",
      " batch_normalization_1 (Batc  (None, 28, 28, 64)       256       \n",
      " hNormalization)                                                 \n",
      "                                                                 \n",
      " conv2d_2 (Conv2D)           (None, 28, 28, 64)        36928     \n",
      "                                                                 \n",
      " batch_normalization_2 (Batc  (None, 28, 28, 64)       256       \n",
      " hNormalization)                                                 \n",
      "                                                                 \n",
      " conv2d_3 (Conv2D)           (None, 14, 14, 128)       73856     \n",
      "                                                                 \n",
      " batch_normalization_3 (Batc  (None, 14, 14, 128)      512       \n",
      " hNormalization)                                                 \n",
      "                                                                 \n",
      " conv2d_4 (Conv2D)           (None, 14, 14, 128)       147584    \n",
      "                                                                 \n",
      " batch_normalization_4 (Batc  (None, 14, 14, 128)      512       \n",
      " hNormalization)                                                 \n",
      "                                                                 \n",
      " conv2d_5 (Conv2D)           (None, 7, 7, 256)         295168    \n",
      "                                                                 \n",
      " batch_normalization_5 (Batc  (None, 7, 7, 256)        1024      \n",
      " hNormalization)                                                 \n",
      "                                                                 \n",
      " conv2d_6 (Conv2D)           (None, 7, 7, 256)         590080    \n",
      "                                                                 \n",
      " batch_normalization_6 (Batc  (None, 7, 7, 256)        1024      \n",
      " hNormalization)                                                 \n",
      "                                                                 \n",
      " conv2d_7 (Conv2D)           (None, 4, 4, 512)         1180160   \n",
      "                                                                 \n",
      " batch_normalization_7 (Batc  (None, 4, 4, 512)        2048      \n",
      " hNormalization)                                                 \n",
      "                                                                 \n",
      " conv2d_8 (Conv2D)           (None, 4, 4, 512)         2359808   \n",
      "                                                                 \n",
      " batch_normalization_8 (Batc  (None, 4, 4, 512)        2048      \n",
      " hNormalization)                                                 \n",
      "                                                                 \n",
      " global_average_pooling2d (G  (None, 512)              0         \n",
      " lobalAveragePooling2D)                                          \n",
      "                                                                 \n",
      " dense (Dense)               (None, 1000)              513000    \n",
      "                                                                 \n",
      " dense_1 (Dense)             (None, 120)               120120    \n",
      "                                                                 \n",
      "=================================================================\n",
      "Total params: 5,371,040\n",
      "Trainable params: 5,367,072\n",
      "Non-trainable params: 3,968\n",
      "_________________________________________________________________\n"
     ]
    }
   ],
   "source": [
    "model = Sequential([\n",
    "    Conv2D(filters=64, kernel_size=7, strides=2, padding='same', activation='relu', input_shape=train_dataset.image_shape),\n",
    "    BatchNormalization(),\n",
    "    MaxPooling2D(pool_size=(3, 3), strides=2, padding='same'),\n",
    "    \n",
    "    Conv2D(filters=64, kernel_size=3, strides=2, padding='same', activation='relu'),\n",
    "    BatchNormalization(),\n",
    "    Conv2D(filters=64, kernel_size=3, strides=1, padding='same', activation='relu'),\n",
    "    BatchNormalization(),\n",
    "\n",
    "    Conv2D(filters=128, kernel_size=3, strides=2, padding='same', activation='relu'),\n",
    "    BatchNormalization(),\n",
    "    Conv2D(filters=128, kernel_size=3, strides=1, padding='same', activation='relu'),\n",
    "    BatchNormalization(),\n",
    "\n",
    "    Conv2D(filters=256, kernel_size=3, strides=2, padding='same', activation='relu'),\n",
    "    BatchNormalization(),\n",
    "    Conv2D(filters=256, kernel_size=3, strides=1, padding='same', activation='relu'),\n",
    "    BatchNormalization(),\n",
    "\n",
    "    Conv2D(filters=512, kernel_size=3, strides=2, padding='same', activation='relu'),\n",
    "    BatchNormalization(),\n",
    "    Conv2D(filters=512, kernel_size=3, strides=1, padding='same', activation='relu'),\n",
    "    BatchNormalization(),\n",
    "\n",
    "    GlobalAveragePooling2D(),\n",
    "\n",
    "    Dense(1000, activation='relu'),\n",
    "    Dense(120, activation='softmax'),\n",
    "])\n",
    "\n",
    "model.summary()"
   ]
  },
  {
   "cell_type": "code",
   "execution_count": null,
   "metadata": {},
   "outputs": [],
   "source": [
    "METRICS = [\n",
    "        'accuracy',\n",
    "        Precision(name='precision'),\n",
    "        Recall(name='recall')\n",
    "    ]\n",
    "\n",
    "model.compile(optimizer='adam', loss='categorical_crossentropy', metrics=METRICS)"
   ]
  },
  {
   "cell_type": "code",
   "execution_count": null,
   "metadata": {},
   "outputs": [],
   "source": [
    "model_history = model.fit(train_dataset,\n",
    "                          batch_size=batch_size,\n",
    "                          validation_data=test_dataset,\n",
    "                          epochs=epoch,\n",
    "                          callbacks=[checkpoint])"
   ]
  },
  {
   "cell_type": "code",
   "execution_count": null,
   "metadata": {},
   "outputs": [],
   "source": [
    "model.save(\"Dogs-Model-1.h5\")"
   ]
  },
  {
   "cell_type": "code",
   "execution_count": null,
   "metadata": {},
   "outputs": [],
   "source": [
    "fig, ax = plt.subplots(2, 2, figsize=(15, 10))\n",
    "ax = ax.ravel()\n",
    "\n",
    "metrics = ['accuracy', 'precision', 'recall', 'loss']\n",
    "for i, met in enumerate(metrics):\n",
    "    row = i // 2\n",
    "    col = i % 2\n",
    "    ax[row,col].plot(model_history.history[met])\n",
    "    ax[row,col].plot(model_history.history['val_' + met])\n",
    "    ax[row,col].set_title('Model {}'.format(met))\n",
    "    ax[row,col].set_xlabel('epochs')\n",
    "    ax[row,col].set_ylabel(met)\n",
    "    ax[row,col].legend(['train', 'val'])\n",
    "\n",
    "plt.tight_layout()\n",
    "plt.show()"
   ]
  },
  {
   "cell_type": "code",
   "execution_count": null,
   "metadata": {},
   "outputs": [],
   "source": [
    "predictions = model.predict(test_dataset)"
   ]
  },
  {
   "cell_type": "code",
   "execution_count": null,
   "metadata": {},
   "outputs": [],
   "source": [
    "labels = []\n",
    "\n",
    "for key, value in train_dataset.class_indices.items():\n",
    "   labels.append(key)"
   ]
  },
  {
   "cell_type": "code",
   "execution_count": null,
   "metadata": {},
   "outputs": [],
   "source": [
    "def evaluate(actual, predictions):\n",
    "  pre = []\n",
    "  for i in predictions:\n",
    "    pre.append(np.argmax(i))\n",
    "\n",
    "  accuracy = (pre == actual).sum() / actual.shape[0]\n",
    "  print(f'Accuracy: {accuracy}')\n",
    "\n",
    "  precision, recall, f1_score, _ = precision_recall_fscore_support(actual, pre, average='macro')\n",
    "  print(f'Precision: {precision}')\n",
    "  print(f'Recall: {recall}')\n",
    "  print(f'F1_score: {f1_score}')\n",
    "\n",
    "  fig, ax = plt.subplots(figsize=(8,8))\n",
    "  conf_mat = confusion_matrix(actual, pre)\n",
    "  sns.heatmap(conf_mat, annot=True, fmt='.0f', xticklabels=labels, yticklabels=labels).set_title('Confusion Matrix Heat map')\n",
    "  plt.show()"
   ]
  },
  {
   "cell_type": "code",
   "execution_count": null,
   "metadata": {},
   "outputs": [],
   "source": [
    "evaluate(test_dataset.classes,predictions)"
   ]
  },
  {
   "cell_type": "code",
   "execution_count": null,
   "metadata": {},
   "outputs": [],
   "source": [
    "model.evaluate(test_dataset)"
   ]
  }
 ],
 "metadata": {
  "kernelspec": {
   "display_name": "Python 3",
   "language": "python",
   "name": "python3"
  },
  "language_info": {
   "codemirror_mode": {
    "name": "ipython",
    "version": 3
   },
   "file_extension": ".py",
   "mimetype": "text/x-python",
   "name": "python",
   "nbconvert_exporter": "python",
   "pygments_lexer": "ipython3",
   "version": "3.11.4"
  },
  "orig_nbformat": 4
 },
 "nbformat": 4,
 "nbformat_minor": 2
}
